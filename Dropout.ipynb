{
 "cells": [
  {
   "cell_type": "code",
   "execution_count": 1,
   "metadata": {},
   "outputs": [],
   "source": [
    "import numpy as np\n",
    "import tensorflow as tf\n",
    "import struct as st\n",
    "import matplotlib.pyplot as plt\n",
    "import copy\n",
    "%matplotlib inline\n",
    "np.set_printoptions(threshold=10)"
   ]
  },
  {
   "cell_type": "code",
   "execution_count": 2,
   "metadata": {},
   "outputs": [],
   "source": [
    "(x_train,y_train), (x_test,y_test) = tf.keras.datasets.mnist.load_data()"
   ]
  },
  {
   "cell_type": "code",
   "execution_count": 3,
   "metadata": {},
   "outputs": [
    {
     "name": "stdout",
     "output_type": "stream",
     "text": [
      "8\n"
     ]
    },
    {
     "data": {
      "text/plain": [
       "<matplotlib.image.AxesImage at 0xb3daf88d0>"
      ]
     },
     "execution_count": 3,
     "metadata": {},
     "output_type": "execute_result"
    },
    {
     "data": {
      "image/png": "[encoded data removed]",
      "text/plain": [
       "<Figure size 432x288 with 1 Axes>"
      ]
     },
     "metadata": {
      "needs_background": "light"
     },
     "output_type": "display_data"
    }
   ],
   "source": [
    "image_index = 17\n",
    "print(y_train[image_index])\n",
    "plt.imshow(x_train[image_index],cmap = 'Greys')"
   ]
  },
  {
   "cell_type": "code",
   "execution_count": 4,
   "metadata": {},
   "outputs": [],
   "source": [
    "x_train_flattened = np.reshape(x_train,(x_train.shape[0],-1))\n",
    "x_test_flattened = np.reshape(x_test,(x_test.shape[0],-1))\n",
    "y_train = y_train.reshape(y_train.shape[0],1)\n",
    "y_test = y_test.reshape(y_test.shape[0],1)"
   ]
  },
  {
   "cell_type": "code",
   "execution_count": 5,
   "metadata": {},
   "outputs": [],
   "source": [
    "x_train_flattened = x_train_flattened.astype('float32')\n",
    "x_test_flattened = x_test_flattened.astype('float32')\n",
    "y_train = y_train.astype('float32')\n",
    "y_test = y_test.astype('float32')"
   ]
  },
  {
   "cell_type": "code",
   "execution_count": 6,
   "metadata": {},
   "outputs": [],
   "source": [
    "x_train_flattened = x_train_flattened/255\n",
    "x_test_flattened = x_test_flattened/255\n",
    "X_train = x_train_flattened.T\n",
    "X_test = x_test_flattened.T"
   ]
  },
  {
   "cell_type": "code",
   "execution_count": 7,
   "metadata": {},
   "outputs": [],
   "source": [
    "n_labels = 10\n",
    "Y_train = np.zeros((n_labels,y_train.shape[0]))\n",
    "Y_test = np.zeros((n_labels,y_test.shape[0]))\n",
    "\n",
    "for i in range(len(y_train)):\n",
    "    Y_train[int(y_train[i])][i] = 1\n",
    "    \n",
    "for i in range(len(y_test)):\n",
    "    Y_test[int(y_test[i])][i] = 1"
   ]
  },
  {
   "cell_type": "code",
   "execution_count": 8,
   "metadata": {},
   "outputs": [],
   "source": [
    "def relu(z):\n",
    "    return np.maximum(z,0)\n",
    "\n",
    "def sigmoid(z):\n",
    "    return 1.0/(1.0+np.exp(-z))\n",
    "\n",
    "def tanh(z):\n",
    "    return np.tanh(z)\n",
    "\n",
    "def atan(z):\n",
    "    return np.arctan(z)\n",
    "\n",
    "def softmax(z):\n",
    "    return np.divide(np.exp(z-np.max(z,axis=0)),np.sum(np.exp(z-np.max(z,axis=0)),axis=0))"
   ]
  },
  {
   "cell_type": "code",
   "execution_count": 9,
   "metadata": {},
   "outputs": [],
   "source": [
    "def activation_function(z,activation):\n",
    "    if activation == 'relu':\n",
    "        return relu(z)\n",
    "    elif activation == 'tanh':\n",
    "        return tanh(z)\n",
    "    elif activation == 'atan':\n",
    "        return atan(z)\n",
    "    elif activation == 'sigmoid':\n",
    "        return sigmoid(z)\n",
    "    elif activation == 'softmax':\n",
    "        return softmax(z)"
   ]
  },
  {
   "cell_type": "code",
   "execution_count": 38,
   "metadata": {},
   "outputs": [],
   "source": [
    "def initialize_parameters(X,nn_architecture,nn_activations,learning_rate,**kwargs):\n",
    "    cache = {}\n",
    "    h_params = {'nn_arch': nn_architecture,\n",
    "                'lr': learning_rate,\n",
    "                'nn_acti': nn_activations,\n",
    "                'reg' : kwargs.get('reg',None),\n",
    "                'lam': kwargs.get('lam',1),\n",
    "                'kp': kwargs.get('kp',1)}\n",
    "    W = np.random.rand(nn_architecture[0],X.shape[0]) * 0.01\n",
    "    B = np.random.rand(nn_architecture[0],1)\n",
    "    cache.update({'W'+str(0): W, 'B'+str(0):B})\n",
    "    for i in range(1,len(nn_architecture)):\n",
    "        W = np.random.rand(nn_architecture[i],nn_architecture[i-1]) * 0.01\n",
    "        B = np.random.rand(nn_architecture[i],1)\n",
    "        cache.update({'W'+str(i): W, 'B'+str(i):B})\n",
    "        \n",
    "    return cache,h_params"
   ]
  },
  {
   "cell_type": "code",
   "execution_count": 54,
   "metadata": {},
   "outputs": [],
   "source": [
    "def forward_nn_network(X,cache,h_params):\n",
    "    A = X\n",
    "    if h_params['reg'] != 'dropout':\n",
    "        for i in range(len(h_params['nn_arch'])):\n",
    "            X = A\n",
    "            Z = np.matmul(cache['W'+str(i)],X) + cache['B'+str(i)]\n",
    "            A = activation_function(Z,h_params['nn_acti'][i])\n",
    "            cache.update({'A'+str(i): A,\n",
    "                         'Z'+str(i): Z})\n",
    "    else:\n",
    "        for i in range(len(h_params['nn_arch'])):\n",
    "            X = A\n",
    "            mask = (np.random.standard_normal(cache['W'+str(i)].shape) >= h_params['kp']) * 1\n",
    "            Z = np.matmul(np.multiply(cache['W'+str(i)],mask),X) + cache['B'+str(i)]\n",
    "            A = activation_function(Z,h_params['nn_acti'][i]) / (1-h_params['kp'])\n",
    "            cache.update({'A'+str(i): A,\n",
    "                         'Z'+str(i): Z,\n",
    "                         'D'+str(i): mask})\n",
    "    return A,cache"
   ]
  },
  {
   "cell_type": "code",
   "execution_count": 24,
   "metadata": {},
   "outputs": [],
   "source": [
    "def cost_function(Y_pred,Y_true,cost):\n",
    "    if cost == 'mae':\n",
    "        return 1.0/Y_pred.shape[1] * np.sum(np.abs(Y_pred-Y_true),axis = 1,keepdims = True)\n",
    "    elif cost == 'mse':\n",
    "        return 0.5/Y_pred.shape[1] * np.sum((Y_pred-Y_true)**2,axis = 1,keepdims = True)\n",
    "    elif cost == 'cross-entropy':\n",
    "        if Y_pred.shape[0] == 2:\n",
    "            return -1.0/Y_pred.shape[1] * np.sum(np.multiply(Y_true,np.log(Y_pred))+np.multiply((1.0-Y_true),np.log(1.0-Y_pred)),axis = 1, keepdims = True)\n",
    "        else:\n",
    "            return -1.0/Y_pred.shape[1] * np.sum(np.multiply(Y_true,np.log(Y_pred)),axis = 1,keepdims = True)"
   ]
  },
  {
   "cell_type": "code",
   "execution_count": 25,
   "metadata": {},
   "outputs": [],
   "source": [
    "def cost_function_derivative(Y_pred,Y_train,cost):\n",
    "    if cost == 'mae':\n",
    "        return 1.0/Y_pred.shape[1]\n",
    "    elif cost == 'mse':\n",
    "        return 1.0/Y_pred.shape[1] * (Y_pred - Y_train)\n",
    "    elif cost == 'cross-entropy':\n",
    "        if Y_pred.shape[0] == 2:\n",
    "            return 1.0/Y_pred.shape[1] * np.divide((Y_pred-Y_train),((1-Y_pred)*(Y_pred)))\n",
    "        else:\n",
    "            return 1.0/Y_pred.shape[1] * np.divide(Y_train,Y_pred)"
   ]
  },
  {
   "cell_type": "code",
   "execution_count": 26,
   "metadata": {},
   "outputs": [],
   "source": [
    "def activation_derivative(Z,activation):\n",
    "    if activation == 'relu':\n",
    "        return (lambda X: X>=0)(Z) * 1\n",
    "    elif activation == 'atan':\n",
    "        return 1.0/(Z**2 +1.0)\n",
    "    elif activation == 'tanh':\n",
    "        return 1.0-(tanh(Z))**2\n",
    "    elif activation == 'sigmoid':\n",
    "        return np.multiply(sigmoid(Z),1.0-sigmoid(Z))\n",
    "    elif activation == 'softmax':\n",
    "        return np.multiply(softmax(Z),np.eye(Z.shape[0])-softmax(Z))"
   ]
  },
  {
   "cell_type": "code",
   "execution_count": 61,
   "metadata": {},
   "outputs": [],
   "source": [
    "def backward_nn_network(X,Y_pred,Y_true,cost,cache,h_params):\n",
    "    \n",
    "    if h_params['reg'] != 'dropout':\n",
    "        # Obtain the pre-multiplier (also dB)\n",
    "        if h_params[\"nn_acti\"][-1] == 'softmax' and cost == 'cross-entropy':\n",
    "            pre_mul = Y_pred-Y_true\n",
    "        else:\n",
    "            # First find the derivatives for the cost function\n",
    "            dJ = cost_function_derivative(Y_pred,Y_true,cost)\n",
    "            # Then find the activation derivative for the last layer\n",
    "            dA_dZ = activation_derivative(cache['A'+str(len(h_params['nn_arch'])-1)],h_params['nn_acti'][len(h_params['nn_arch'])-1])\n",
    "            pre_mul = np.matmul(dJ.T,dA_dZ)\n",
    "\n",
    "        # Obtain the dW and dB\n",
    "        dW = np.matmul(pre_mul,cache['A'+str(len(h_params['nn_arch'])-2)].T)\n",
    "        dB = np.sum(pre_mul,axis=1,keepdims=True)\n",
    "        # Store it in a cache\n",
    "        cache.update({'dW'+str(len(h_params['nn_arch'])-1): dW,\n",
    "                     'dB'+str(len(h_params['nn_arch'])-1): dB})\n",
    "\n",
    "        # Similarly for the middle layers\n",
    "\n",
    "        for i in range(len(h_params['nn_arch'])-2,0,-1):\n",
    "            pre_mul = np.matmul(cache['W'+str(i+1)].T,pre_mul)\n",
    "            dA_dZ = activation_derivative(cache['A'+str(i)],h_params['nn_acti'][i])\n",
    "            pre_mul = np.multiply(pre_mul,dA_dZ)\n",
    "            dW = np.matmul(pre_mul,cache['A'+str(i-1)].T)\n",
    "            dB = np.sum(pre_mul,axis=1,keepdims=True)\n",
    "            cache.update({'dW'+str(i): dW,\n",
    "                         'dB'+str(i): dB})\n",
    "\n",
    "        # Similarly for the first layer\n",
    "        pre_mul = np.matmul(cache['W'+str(1)].T,pre_mul)\n",
    "        dA_dZ = activation_derivative(cache['A'+str(0)],h_params['nn_acti'][0])\n",
    "        pre_mul = np.multiply(pre_mul,dA_dZ)\n",
    "        dW = np.matmul(pre_mul,X.T)\n",
    "        dB = np.sum(pre_mul,axis=1,keepdims=True)\n",
    "        cache.update({'dW'+str(0): dW,\n",
    "                     'dB'+str(0): dB})\n",
    "        \n",
    "        \n",
    "    else:\n",
    "        # Obtain the pre-multiplier (also dB)\n",
    "        if h_params[\"nn_acti\"][-1] == 'softmax' and cost == 'cross-entropy':\n",
    "            pre_mul = Y_pred-Y_true\n",
    "        else:\n",
    "            # First find the derivatives for the cost function\n",
    "            dJ = cost_function_derivative(Y_pred,Y_true,cost)\n",
    "            # Then find the activation derivative for the last layer\n",
    "            dA_dZ = activation_derivative(cache['A'+str(len(h_params['nn_arch'])-1)],h_params['nn_acti'][len(h_params['nn_arch'])-1])\n",
    "            pre_mul = np.matmul(dJ.T,dA_dZ)\n",
    "\n",
    "        # Obtain the dW and dB\n",
    "        dW = np.matmul(pre_mul,cache['A'+str(len(h_params['nn_arch'])-2)].T) / (1-h_params['kp'])\n",
    "        dB = np.sum(pre_mul,axis=1,keepdims=True)\n",
    "        # Store it in a cache\n",
    "        cache.update({'dW'+str(len(h_params['nn_arch'])-1): dW,\n",
    "                     'dB'+str(len(h_params['nn_arch'])-1): dB})\n",
    "\n",
    "        # Similarly for the middle layers\n",
    "\n",
    "        for i in range(len(h_params['nn_arch'])-2,0,-1):\n",
    "            pre_mul = np.matmul(np.multiply(cache['D'+str(i+1)],cache['W'+str(i+1)]).T,pre_mul)\n",
    "            dA_dZ = activation_derivative(cache['A'+str(i)],h_params['nn_acti'][i])\n",
    "            pre_mul = np.multiply(pre_mul,dA_dZ)\n",
    "            dW = np.matmul(pre_mul,cache['A'+str(i-1)].T) / (1-h_params['kp'])\n",
    "            dB = np.sum(pre_mul,axis=1,keepdims=True)\n",
    "            cache.update({'dW'+str(i): dW,\n",
    "                         'dB'+str(i): dB})\n",
    "\n",
    "        # Similarly for the first layer\n",
    "        pre_mul = np.matmul(cache['W'+str(1)].T,pre_mul)\n",
    "        dA_dZ = activation_derivative(cache['A'+str(0)],h_params['nn_acti'][0])\n",
    "        pre_mul = np.multiply(pre_mul,dA_dZ)\n",
    "        dW = np.matmul(pre_mul,X.T) / (1-h_params['kp'])\n",
    "        dB = np.sum(pre_mul,axis=1,keepdims=True)\n",
    "        cache.update({'dW'+str(0): dW,\n",
    "                     'dB'+str(0): dB})\n",
    "    \n",
    "    return cache"
   ]
  },
  {
   "cell_type": "code",
   "execution_count": 28,
   "metadata": {},
   "outputs": [],
   "source": [
    "def update_weights(cache,h_params):\n",
    "    if h_params['reg'] == None:\n",
    "        for i in range(len(h_params['nn_arch'])):\n",
    "            cache['W'+str(i)] -= cache['dW'+str(i)] * h_params['lr']\n",
    "            cache['B'+str(i)] -= cache['dB'+str(i)] * h_params['lr']\n",
    "    elif h_params['reg'] == 'L2':\n",
    "        for i in range(len(h_params['nn_arch'])):\n",
    "            cache['W'+str(i)] -= (cache['dW'+str(i)] + h_params['lam'] * cache['W'+str(i)]/cache['A0'].shape[1]) * h_params['lr']\n",
    "            cache['B'+str(i)] -= cache['dB'+str(i)] * h_params['lr']\n",
    "    elif h_params['reg'] == 'dropout':\n",
    "        for i in range(len(h_params['nn_arch'])):\n",
    "            cache['W'+str(i)] -= np.multiply(cache['D'+str(i)],cache['dW'+str(i)]) * h_params['lr']\n",
    "            cache['B'+str(i)] -= cache['dB'+str(i)] * h_params['lr']\n",
    "    return cache"
   ]
  },
  {
   "cell_type": "code",
   "execution_count": 29,
   "metadata": {},
   "outputs": [],
   "source": [
    "def nn_network(X,Y_true,nn_architecture,nn_activations,cost,learning_rate,n_epoch,regularization,lam,keep_probs):\n",
    "    cache,h_params = initialize_parameters(X,nn_architecture,nn_activations,learning_rate,lam,keep_probs)\n",
    "    cost = []\n",
    "    if regularization == None:\n",
    "        for i in range(n_epoch):\n",
    "            Y_pred,cache = forward_nn_network(X,cache,h_params,regularization)\n",
    "            loss = cost_function(Y_pred,Y_true,cost)\n",
    "            print(np.sum(loss))\n",
    "            cache = backward_nn_network(X,Y_pred,Y_true,cost,cache,h_params)\n",
    "            cache = update_weights(cache,h_params)\n",
    "            cost.append(np.sum(loss))\n",
    "    elif regularization == 'L2':\n",
    "        for i in range(n_epoch):\n",
    "            Y_pred,cache = forward_nn_network(X,cache,h_params,regularization)\n",
    "            loss = cost_function(Y_pred,Y_true,cost)\n",
    "            for j in range(len(h_params['nn_arch'])):\n",
    "                loss += 0.5 * h_params['lam'] * np.sum(np.square(cache['W'+str(j)])) / Y_pred.shape[1]\n",
    "            print(np.sum(loss))\n",
    "            cache = backward_nn_network(X,Y_pred,Y_true,cost,cache,h_params)\n",
    "            cache = update_weights(cache,h_params,regularization)\n",
    "            cost.append(np.sum(loss))\n",
    "    elif regularization == 'dropout':\n",
    "        for i in range(n_epoch):\n",
    "            Y_pred,cache = forward_nn_network(X,cache,h_params,regularization)\n",
    "            loss = cost_function(Y_pred,Y_true,cost)\n",
    "            print(np.sum(loss))\n",
    "            cache = backward_nn_network(X,Y_pred,Y_true,cost,cache,h_params)\n",
    "            cache = update_weights(cache,h_params)\n",
    "            cost.append(np.sum(loss))\n",
    "            \n",
    "    return cache,h_params,cost"
   ]
  },
  {
   "cell_type": "code",
   "execution_count": 65,
   "metadata": {},
   "outputs": [],
   "source": [
    "cache,h_params = initialize_parameters(X_train,[25,10],['sigmoid','softmax'],1e-4,reg = 'dropout',kp = 0.7)\n",
    "cost = []"
   ]
  },
  {
   "cell_type": "code",
   "execution_count": 79,
   "metadata": {},
   "outputs": [
    {
     "name": "stdout",
     "output_type": "stream",
     "text": [
      "1.7077650782678746\n",
      "1.918114035293459\n",
      "1.7588308923593803\n",
      "2.068988293533276\n",
      "1.7177449380717187\n",
      "1.8125111554395354\n",
      "1.6157331777932524\n",
      "1.7979730368768847\n",
      "1.9763448891217936\n",
      "1.672094062650999\n",
      "1.722523366497826\n",
      "1.7636647394997735\n",
      "1.9535667553283904\n",
      "2.0724560003384798\n",
      "1.728716885117035\n",
      "1.6033189868107456\n",
      "1.7334027910449699\n",
      "1.512303816960783\n",
      "1.9327542398879731\n",
      "1.7581826749408487\n",
      "1.6320930742369715\n",
      "1.9500054326212366\n",
      "1.8743779607744109\n",
      "1.9307318673926037\n",
      "1.7833756351461543\n",
      "2.0040644828652043\n",
      "1.8789485818917568\n",
      "1.6561932205693557\n",
      "1.7805581094783536\n",
      "1.7768015058107232\n",
      "1.5854108655299017\n",
      "1.7090961200355748\n",
      "1.7304447726645724\n",
      "1.8041933100543674\n",
      "1.7665703432611486\n",
      "1.717098924322307\n",
      "2.060102651112225\n",
      "1.5800464644131444\n",
      "1.8279949691960429\n",
      "1.7539888138366717\n",
      "1.8565525509175556\n",
      "1.6380727085053857\n",
      "1.7334944372774173\n",
      "1.9605729732754429\n",
      "1.6596388559611257\n",
      "1.7054342576046604\n",
      "1.6898820527362521\n",
      "1.9802285223253562\n",
      "1.5837693840292972\n",
      "1.7795834216293047\n",
      "1.8084911078500572\n",
      "1.8288056667209764\n",
      "1.8307545681366868\n",
      "1.9359787323770705\n",
      "1.734428870652787\n",
      "1.6213177340133904\n",
      "1.8974634110906092\n",
      "2.0255936828329433\n",
      "1.9077032612006697\n",
      "1.874775232052144\n",
      "1.8188250561532255\n",
      "1.9845781716609139\n",
      "1.8596936518535512\n",
      "1.6976993067843278\n",
      "1.8485767599593315\n",
      "1.7866901791905796\n",
      "1.7263991049306648\n",
      "1.7331024124178311\n",
      "1.5519948294876829\n",
      "1.716789144117924\n",
      "1.7024917203311836\n",
      "1.7826386920263666\n",
      "1.8135224737195421\n",
      "1.922652782047992\n",
      "2.1264992169171855\n",
      "1.830487789286791\n",
      "1.7533845702095974\n",
      "1.9590843942845175\n",
      "1.8076833225486757\n",
      "1.7360091157307318\n",
      "1.6409348120731666\n",
      "1.7304560812177374\n",
      "1.8256509259552753\n",
      "2.036237822817809\n",
      "1.6830296811122385\n",
      "1.8448333987048193\n",
      "1.7380829782489826\n",
      "2.1117203775090645\n",
      "1.8100997797004088\n",
      "1.766206670253025\n",
      "1.9815245140105202\n",
      "1.9401276108527337\n",
      "1.775384415541058\n",
      "1.7791671256961175\n",
      "1.8282764695612692\n",
      "1.7445849143827643\n",
      "1.8399398767508892\n",
      "1.8085230851846987\n",
      "1.7495657634211628\n",
      "1.8125303125105066\n"
     ]
    }
   ],
   "source": [
    "for i in range(100):\n",
    "    Y_pred,cache = forward_nn_network(X_train,cache,h_params)\n",
    "    loss = cost_function(Y_pred,Y_train,'cross-entropy')\n",
    "    print(np.sum(loss))\n",
    "    cache = backward_nn_network(X_train,Y_pred,Y_train,'cross-entropy',cache,h_params)\n",
    "    cache = update_weights(cache,h_params)\n",
    "    cost.append(np.sum(loss))"
   ]
  },
  {
   "cell_type": "code",
   "execution_count": 80,
   "metadata": {},
   "outputs": [
    {
     "data": {
      "text/plain": [
       "[<matplotlib.lines.Line2D at 0xb42896cc0>]"
      ]
     },
     "execution_count": 80,
     "metadata": {},
     "output_type": "execute_result"
    },
    {
     "data": {
      "image/png": "[encoded data removed]",
      "text/plain": [
       "<Figure size 432x288 with 1 Axes>"
      ]
     },
     "metadata": {
      "needs_background": "light"
     },
     "output_type": "display_data"
    }
   ],
   "source": [
    "plt.plot(cost)"
   ]
  },
  {
   "cell_type": "code",
   "execution_count": 78,
   "metadata": {},
   "outputs": [
    {
     "name": "stdout",
     "output_type": "stream",
     "text": [
      "36.934999999999995\n"
     ]
    }
   ],
   "source": [
    "accuracy_train = (1-(np.sum(np.abs((Y_pred >= np.max(Y_pred,axis=0)) * 1 - Y_train)))/2/Y_train.shape[1]) * 100\n",
    "print(accuracy_train)"
   ]
  },
  {
   "cell_type": "code",
   "execution_count": null,
   "metadata": {},
   "outputs": [],
   "source": []
  }
 ],
 "metadata": {
  "kernelspec": {
   "display_name": "Python 3",
   "language": "python",
   "name": "python3"
  },
  "language_info": {
   "codemirror_mode": {
    "name": "ipython",
    "version": 3
   },
   "file_extension": ".py",
   "mimetype": "text/x-python",
   "name": "python",
   "nbconvert_exporter": "python",
   "pygments_lexer": "ipython3",
   "version": "3.7.2"
  }
 },
 "nbformat": 4,
 "nbformat_minor": 2
}
