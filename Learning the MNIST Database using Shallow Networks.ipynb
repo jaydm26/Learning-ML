{
 "cells": [
  {
   "cell_type": "markdown",
   "metadata": {},
   "source": [
    "# Deep Neural Network "
   ]
  },
  {
   "cell_type": "markdown",
   "metadata": {},
   "source": [
    "Deep Neural Networks are pretty cool for a lot of applications. Here, I am trying to code it myself from my understanding from Professor Ng's course in Coursera and Stanford. The problem is a pretty standard one: classification of numbers. The numbers and labels are provided by NIST.\n",
    "\n",
    "It can be easily pulled from the TensorFlow Keras library. It is also availble on [Professor Yann LeCun's website](http://yann.lecun.com/exdb/mnist/)."
   ]
  },
  {
   "cell_type": "code",
   "execution_count": 1,
   "metadata": {},
   "outputs": [],
   "source": [
    "import numpy as np\n",
    "import tensorflow as tf\n",
    "import struct as st\n",
    "import matplotlib.pyplot as plt\n",
    "import copy\n",
    "%matplotlib inline\n",
    "np.set_printoptions(threshold=10)"
   ]
  },
  {
   "cell_type": "code",
   "execution_count": 2,
   "metadata": {},
   "outputs": [],
   "source": [
    "(x_train,y_train), (x_test,y_test) = tf.keras.datasets.mnist.load_data()"
   ]
  },
  {
   "cell_type": "markdown",
   "metadata": {},
   "source": [
    "## Observe the data"
   ]
  },
  {
   "cell_type": "markdown",
   "metadata": {},
   "source": [
    "Pick any index number from 0 to 60000 to observe the output. y_train contains the label."
   ]
  },
  {
   "cell_type": "code",
   "execution_count": 3,
   "metadata": {},
   "outputs": [
    {
     "name": "stdout",
     "output_type": "stream",
     "text": [
      "8\n"
     ]
    },
    {
     "data": {
      "text/plain": [
       "<matplotlib.image.AxesImage at 0xb4193b9e8>"
      ]
     },
     "execution_count": 3,
     "metadata": {},
     "output_type": "execute_result"
    },
    {
     "data": {
      "image/png": "[encoded data removed]",
      "text/plain": [
       "<Figure size 432x288 with 1 Axes>"
      ]
     },
     "metadata": {
      "needs_background": "light"
     },
     "output_type": "display_data"
    }
   ],
   "source": [
    "image_index = 17\n",
    "print(y_train[image_index])\n",
    "plt.imshow(x_train[image_index],cmap = 'Greys')"
   ]
  },
  {
   "cell_type": "markdown",
   "metadata": {},
   "source": [
    "Note the shape of x_train and x_test."
   ]
  },
  {
   "cell_type": "code",
   "execution_count": 4,
   "metadata": {
    "scrolled": true
   },
   "outputs": [
    {
     "data": {
      "text/plain": [
       "(60000, 28, 28)"
      ]
     },
     "execution_count": 4,
     "metadata": {},
     "output_type": "execute_result"
    }
   ],
   "source": [
    "x_train.shape"
   ]
  },
  {
   "cell_type": "code",
   "execution_count": 5,
   "metadata": {},
   "outputs": [
    {
     "data": {
      "text/plain": [
       "(10000, 28, 28)"
      ]
     },
     "execution_count": 5,
     "metadata": {},
     "output_type": "execute_result"
    }
   ],
   "source": [
    "x_test.shape"
   ]
  },
  {
   "cell_type": "markdown",
   "metadata": {},
   "source": [
    "Let us first flatten the 3D shape of x_train and x_test to a 2D shape where the the first dimension tells us about the number of training images, and the second dimension contains the total number of pixels (stacked)."
   ]
  },
  {
   "cell_type": "code",
   "execution_count": 6,
   "metadata": {},
   "outputs": [],
   "source": [
    "x_train_flattened = np.reshape(x_train,(x_train.shape[0],-1))\n",
    "x_test_flattened = np.reshape(x_test,(x_test.shape[0],-1))\n",
    "y_train = y_train.reshape(y_train.shape[0],1)\n",
    "y_test = y_test.reshape(y_test.shape[0],1)"
   ]
  },
  {
   "cell_type": "markdown",
   "metadata": {},
   "source": [
    "Since the data is 'uint8' type, let us convert it to float32."
   ]
  },
  {
   "cell_type": "code",
   "execution_count": 7,
   "metadata": {},
   "outputs": [],
   "source": [
    "x_train_flattened = x_train_flattened.astype('float32')\n",
    "x_test_flattened = x_test_flattened.astype('float32')\n",
    "y_train = y_train.astype('float32')\n",
    "y_test = y_test.astype('float32')"
   ]
  },
  {
   "cell_type": "markdown",
   "metadata": {},
   "source": [
    "Here, we are normalizing the data. The maximum value of the pixel will be 255 (darkest). So divide by 255.\n",
    "\n",
    "I also transpose the matrix because I want the second dimension to be the number of images. This dimnesion should be unaffected by the matrix multiplication."
   ]
  },
  {
   "cell_type": "code",
   "execution_count": 8,
   "metadata": {},
   "outputs": [],
   "source": [
    "x_train_flattened = x_train_flattened/255\n",
    "x_test_flattened = x_test_flattened/255\n",
    "X_train = x_train_flattened.T\n",
    "X_test = x_test_flattened.T"
   ]
  },
  {
   "cell_type": "markdown",
   "metadata": {},
   "source": [
    "We also need to convert the labels into 1-hot encoded output so that its size matches with the output dimensions."
   ]
  },
  {
   "cell_type": "code",
   "execution_count": 9,
   "metadata": {},
   "outputs": [],
   "source": [
    "n_labels = 10\n",
    "Y_true = np.zeros((n_labels,y_train.shape[0]))\n",
    "Y_test = np.zeros((n_labels,y_test.shape[0]))\n",
    "\n",
    "for i in range(len(y_train)):\n",
    "    Y_true[int(y_train[i])][i] = 1\n",
    "    \n",
    "for i in range(len(y_test)):\n",
    "    Y_test[int(y_test[i])][i] = 1"
   ]
  },
  {
   "cell_type": "code",
   "execution_count": 10,
   "metadata": {},
   "outputs": [
    {
     "data": {
      "text/plain": [
       "array([[0.],\n",
       "       [0.],\n",
       "       [0.],\n",
       "       [0.],\n",
       "       [0.],\n",
       "       [1.],\n",
       "       [0.],\n",
       "       [0.],\n",
       "       [0.],\n",
       "       [0.]])"
      ]
     },
     "execution_count": 10,
     "metadata": {},
     "output_type": "execute_result"
    }
   ],
   "source": [
    "Y_true[:,0].reshape(10,1)"
   ]
  },
  {
   "cell_type": "code",
   "execution_count": 11,
   "metadata": {},
   "outputs": [
    {
     "data": {
      "text/plain": [
       "array([[0.],\n",
       "       [0.],\n",
       "       [0.],\n",
       "       [0.],\n",
       "       [0.],\n",
       "       [0.],\n",
       "       [0.],\n",
       "       [1.],\n",
       "       [0.],\n",
       "       [0.]])"
      ]
     },
     "execution_count": 11,
     "metadata": {},
     "output_type": "execute_result"
    }
   ],
   "source": [
    "Y_test[:,0].reshape(10,1)"
   ]
  },
  {
   "cell_type": "markdown",
   "metadata": {},
   "source": [
    "Now let us try to form the first nueron that links up the first layer."
   ]
  },
  {
   "cell_type": "code",
   "execution_count": 12,
   "metadata": {},
   "outputs": [],
   "source": [
    "W1 = np.zeros((1,X_train.shape[0]))\n",
    "B1 = np.zeros((1,X_train.shape[0]))"
   ]
  },
  {
   "cell_type": "code",
   "execution_count": 13,
   "metadata": {},
   "outputs": [
    {
     "data": {
      "text/plain": [
       "(1, 60000)"
      ]
     },
     "execution_count": 13,
     "metadata": {},
     "output_type": "execute_result"
    }
   ],
   "source": [
    "Z = np.matmul(W1,X_train)\n",
    "Z.shape"
   ]
  },
  {
   "cell_type": "markdown",
   "metadata": {},
   "source": [
    "In Professor Ng's notes on Coursera, he uses a row-vector for X and dot multiplies each row of the weights matrix. I prefer to think of the W and X as matrices. Thus, I will keep X as a column vector and use matmul."
   ]
  },
  {
   "cell_type": "markdown",
   "metadata": {},
   "source": [
    "Now, we need to a non-linear activation function. There are various activation functions available like ReLU, tanh, sigmoid, etc. Let us define them below so that we can call them in future functions immediately."
   ]
  },
  {
   "cell_type": "code",
   "execution_count": 14,
   "metadata": {},
   "outputs": [],
   "source": [
    "def relu(z):\n",
    "    return np.maximum(z,0)"
   ]
  },
  {
   "cell_type": "code",
   "execution_count": 15,
   "metadata": {},
   "outputs": [],
   "source": [
    "def sigmoid(z):\n",
    "    return 1.0/(1.0+np.exp(-z))"
   ]
  },
  {
   "cell_type": "code",
   "execution_count": 16,
   "metadata": {},
   "outputs": [],
   "source": [
    "def tanh(z):\n",
    "    return np.tanh(z)"
   ]
  },
  {
   "cell_type": "code",
   "execution_count": 17,
   "metadata": {},
   "outputs": [],
   "source": [
    "def atan(z):\n",
    "    return np.arctan(z)"
   ]
  },
  {
   "cell_type": "markdown",
   "metadata": {},
   "source": [
    "Also note that the last layer for multiple classification like our problem will be activated using a softmax function. Lets quickly create the softmax function and then get back to learning."
   ]
  },
  {
   "cell_type": "code",
   "execution_count": 131,
   "metadata": {},
   "outputs": [],
   "source": [
    "def softmax(z):\n",
    "    return np.divide(np.exp(z-np.max(z,axis=0)+1e-6),np.sum(np.exp(z-np.max(z,axis=0)+1e-6),axis=0))"
   ]
  },
  {
   "cell_type": "markdown",
   "metadata": {},
   "source": [
    "In the above example, we have a (3,2) system. For the real output, we will have a (10,60000) output. This is similar to what we need. The difference here is that we are classifying the data into 3 categories instead of 10. And we have 2 such examples instead of 60000."
   ]
  },
  {
   "cell_type": "markdown",
   "metadata": {},
   "source": [
    "Now that we have defined some non-linear functions to activate our single neuron, let us now use one of these functions."
   ]
  },
  {
   "cell_type": "markdown",
   "metadata": {},
   "source": [
    "This concluded the construction of 1 neuron. \n",
    "\n",
    "To create more neurons, we just need to add more rows to the weight matrix. The bias vector will now reflect the number of neurons in the next line. Thus, W has the shape of (number of layers in the next layer, number of inputs), B has the shape of (number of layers in the next layer, number of images). Note here that the second dimension of B can be left as 1, as Python can broadcast the vector."
   ]
  },
  {
   "cell_type": "code",
   "execution_count": 19,
   "metadata": {},
   "outputs": [],
   "source": [
    "next_layer = 10\n",
    "W1 = np.zeros((next_layer,X_train.shape[0]))\n",
    "B1 = np.zeros((1,X_train.shape[1]))"
   ]
  },
  {
   "cell_type": "code",
   "execution_count": 20,
   "metadata": {},
   "outputs": [],
   "source": [
    "Z = np.matmul(W1,X_train) + B1"
   ]
  },
  {
   "cell_type": "code",
   "execution_count": 21,
   "metadata": {},
   "outputs": [
    {
     "data": {
      "text/plain": [
       "(10, 60000)"
      ]
     },
     "execution_count": 21,
     "metadata": {},
     "output_type": "execute_result"
    }
   ],
   "source": [
    "A = relu(Z)\n",
    "A.shape"
   ]
  },
  {
   "cell_type": "markdown",
   "metadata": {},
   "source": [
    "Let us try to put all of this in one function which we can call over and over if we want to create a nueral network.\n",
    "\n",
    "What are the things that go into making a layer? We need weights, bias, and activation. Further, we need to know what we got as input and what we need to give as output.\n",
    "\n",
    "Let us also keep a track of the network we create by creating a cache for weights and biases."
   ]
  },
  {
   "cell_type": "code",
   "execution_count": 22,
   "metadata": {},
   "outputs": [],
   "source": [
    "def nn_layer(X,next_layer,activation):\n",
    "    W = np.random.rand(next_layer,X.shape[0])\n",
    "    B = np.random.rand(next_layer,1)\n",
    "    Z = np.matmul(W,X) + B\n",
    "    cache = {'W': W, 'B':B}\n",
    "    if activation == 'relu':\n",
    "        return relu(Z)\n",
    "    elif activation == 'tanh':\n",
    "        return tanh(Z)\n",
    "    elif activation == 'atan':\n",
    "        return atan(Z)\n",
    "    elif activation == 'sigmoid':\n",
    "        return sigmoid(Z)\n",
    "    elif activation == 'softmax':\n",
    "        return softmax(Z)"
   ]
  },
  {
   "cell_type": "code",
   "execution_count": 23,
   "metadata": {},
   "outputs": [],
   "source": [
    "op = nn_layer(X_train,10,'softmax')"
   ]
  },
  {
   "cell_type": "code",
   "execution_count": 24,
   "metadata": {},
   "outputs": [
    {
     "data": {
      "text/plain": [
       "(10, 60000)"
      ]
     },
     "execution_count": 24,
     "metadata": {},
     "output_type": "execute_result"
    }
   ],
   "source": [
    "op.shape"
   ]
  },
  {
   "cell_type": "markdown",
   "metadata": {},
   "source": [
    "For a number of layers, it is not possible to set up a single function which is fast and flexible to accomodate for various neural network architectures. Thus, we have to incorporate a 'for' loop which will pass through the neural network architecture and create each layer and maintain a cache of all weights, biases, activations, etc.\n",
    "\n",
    "To create a full network, we will need the input (of course!), the neural network architecture (number of neurons in each layer, their activations), a final layer to convert the data into the classification labels.\n",
    "\n",
    "Just before we create the network, I want to create a quick function that reduces the if/else statements to one line in the main network. This is the 'activation_function'."
   ]
  },
  {
   "cell_type": "code",
   "execution_count": 25,
   "metadata": {},
   "outputs": [],
   "source": [
    "def activation_function(z,activation):\n",
    "    if activation == 'relu':\n",
    "        return relu(z)\n",
    "    elif activation == 'tanh':\n",
    "        return tanh(z)\n",
    "    elif activation == 'atan':\n",
    "        return atan(z)\n",
    "    elif activation == 'sigmoid':\n",
    "        return sigmoid(z)\n",
    "    elif activation == 'softmax':\n",
    "        return softmax(z)"
   ]
  },
  {
   "cell_type": "code",
   "execution_count": 26,
   "metadata": {},
   "outputs": [],
   "source": [
    "def initialize_parameters(X,nn_architecture,nn_activations,learning_rate):\n",
    "    cache = {}\n",
    "    h_params = {'nn_arch': nn_architecture,\n",
    "               'lr': learning_rate,\n",
    "               'nn_acti': nn_activations}\n",
    "    W = np.random.rand(nn_architecture[0],X.shape[0]) * 0.01\n",
    "    B = np.random.rand(nn_architecture[0],1)\n",
    "    cache.update({'W'+str(0): W, 'B'+str(0):B})\n",
    "    for i in range(1,len(nn_architecture)):\n",
    "        W = np.random.rand(nn_architecture[i],nn_architecture[i-1]) * 0.01\n",
    "        B = np.random.rand(nn_architecture[i],1)\n",
    "        cache.update({'W'+str(i): W, 'B'+str(i):B})\n",
    "        \n",
    "    return cache,h_params"
   ]
  },
  {
   "cell_type": "code",
   "execution_count": 27,
   "metadata": {},
   "outputs": [],
   "source": [
    "def forward_nn_network(X,cache,h_params):\n",
    "    A = X\n",
    "    for i in range(len(h_params['nn_arch'])):\n",
    "        X = A\n",
    "        Z = np.matmul(cache['W'+str(i)],X) + cache['B'+str(i)]\n",
    "        A = activation_function(Z,h_params['nn_acti'][i])\n",
    "        cache.update({'A'+str(i): A,\n",
    "                     'Z'+str(i): Z})\n",
    "    return A,cache"
   ]
  },
  {
   "cell_type": "markdown",
   "metadata": {},
   "source": [
    "Great! Now, we have successfully completed a forward pass on the network. Now comes the tough part, the learning part. Just before we jump into learning, we need to know if what we obtained was accurate or not."
   ]
  },
  {
   "cell_type": "markdown",
   "metadata": {},
   "source": [
    "There are a variety of ways to calculate the cost(loss) of the calculation. Boiled down to the basics, what we are trying to do is to reduce this cost function. Thus, using a good cost function is very important. So what are some cost functions?\n",
    "\n",
    "Well, we already know some of them. Mean Absolute Error and Mean Squared Error are the most common ones. We have also seen Cross-Entropy function in most of the Deep Neural Network classes. I will define all of them in a function so that I don't have to think about them over and over again."
   ]
  },
  {
   "cell_type": "code",
   "execution_count": 135,
   "metadata": {},
   "outputs": [],
   "source": [
    "def cost_function(Y_pred,Y_true,cost):\n",
    "    if cost == 'mae':\n",
    "        return 1.0/Y_pred.shape[1] * np.sum(np.abs(Y_pred-Y_true),axis = 1,keepdims = True)\n",
    "    elif cost == 'mse':\n",
    "        return 0.5/Y_pred.shape[1] * np.sum((Y_pred-Y_true)**2,axis = 1,keepdims = True)\n",
    "    elif cost == 'cross-entropy':\n",
    "        if Y_pred.shape[0] == 2:\n",
    "            return -1.0/Y_pred.shape[1] * np.sum(np.multiply(Y_true,np.log(Y_pred))+np.multiply((1.0-Y_true),np.log(1.0-Y_pred)),axis = 1, keepdims = True)\n",
    "        else:\n",
    "            return -1.0/Y_pred.shape[1] * np.sum(np.multiply(Y_true,np.log(Y_pred+1e-6)),axis = 1,keepdims = True)"
   ]
  },
  {
   "cell_type": "markdown",
   "metadata": {},
   "source": [
    "Let us now focus on the learning. Starting with the 2 neuron to 1 neuron network. Find the derivative of the cost function with respect to the predictions."
   ]
  },
  {
   "cell_type": "code",
   "execution_count": 29,
   "metadata": {},
   "outputs": [],
   "source": [
    "def cost_function_derivative(Y_pred,Y_train,cost):\n",
    "    if cost == 'mae':\n",
    "        return 1.0/Y_pred.shape[1]\n",
    "    elif cost == 'mse':\n",
    "        return 1.0/Y_pred.shape[1] * (Y_pred - Y_train)\n",
    "    elif cost == 'cross-entropy':\n",
    "        if Y_pred.shape[0] == 2:\n",
    "            return 1.0/Y_pred.shape[1] * np.divide((Y_pred-Y_train),((1-Y_pred)*(Y_pred)))\n",
    "        else:\n",
    "            return 1.0/Y_pred.shape[1] * np.divide(Y_train,Y_pred)"
   ]
  },
  {
   "cell_type": "code",
   "execution_count": 30,
   "metadata": {},
   "outputs": [],
   "source": [
    "def activation_derivative(Z,activation):\n",
    "    if activation == 'relu':\n",
    "        return (lambda X: X>=0)(Z) * 1\n",
    "    elif activation == 'atan':\n",
    "        return 1.0/(Z**2 +1.0)\n",
    "    elif activation == 'tanh':\n",
    "        return 1.0-(tanh(Z))**2\n",
    "    elif activation == 'sigmoid':\n",
    "        return np.multiply(sigmoid(Z),1.0-sigmoid(Z))\n",
    "    elif activation == 'softmax':\n",
    "        return np.multiply(softmax(Z),np.eye(Z.shape[0])-softmax(Z))"
   ]
  },
  {
   "cell_type": "markdown",
   "metadata": {},
   "source": [
    "Now that we have defined the derivative for the cost function, and the derivative for the activation, we need to know the derivative of the linear operation Z = WX + B with respect to W. Obviously, the derivative will be X. Thus, for the final layer, the value of W will be updated using the derivative of the cost function, activation function and the linear operation. For subsequent layers, this process will keep on multiplying to form the required matrix."
   ]
  },
  {
   "cell_type": "code",
   "execution_count": 31,
   "metadata": {},
   "outputs": [],
   "source": [
    "def backward_nn_network(X,Y_pred,Y_true,cost,cache,h_params):\n",
    "    \n",
    "    # Obtain the pre-multiplier (also dB)\n",
    "    if h_params[\"nn_acti\"][-1] == 'softmax' and cost == 'cross-entropy':\n",
    "        pre_mul = Y_pred-Y_true\n",
    "    else:\n",
    "        # First find the derivatives for the cost function\n",
    "        dJ = cost_function_derivative(Y_pred,Y_true,cost)\n",
    "        # Then find the activation derivative for the last layer\n",
    "        dA_dZ = activation_derivative(cache['A'+str(len(h_params['nn_arch'])-1)],h_params['nn_acti'][len(h_params['nn_arch'])-1])\n",
    "        pre_mul = np.matmul(dJ.T,dA_dZ)\n",
    "        \n",
    "    # Obtain the dW and dB\n",
    "    dW = np.matmul(pre_mul,cache['A'+str(len(h_params['nn_arch'])-2)].T)\n",
    "    dB = np.sum(pre_mul,axis=1,keepdims=True)\n",
    "    # Store it in a cache\n",
    "    cache.update({'dW'+str(len(h_params['nn_arch'])-1): dW,\n",
    "                 'dB'+str(len(h_params['nn_arch'])-1): dB})\n",
    "\n",
    "    # Similarly for the middle layers\n",
    "    for i in range(len(h_params['nn_arch'])-2,0,-1):\n",
    "        pre_mul = np.matmul(cache['W'+str(i+1)].T,pre_mul)\n",
    "        dA_dZ = activation_derivative(cache['A'+str(i)],h_params['nn_acti'][i])\n",
    "        pre_mul = np.multiply(pre_mul,dA_dZ)\n",
    "        dW = np.matmul(pre_mul,cache['A'+str(i-1)].T)\n",
    "        dB = np.sum(pre_mul,axis=1,keepdims=True)\n",
    "        cache.update({'dW'+str(i): dW,\n",
    "                     'dB'+str(i): dB})\n",
    "\n",
    "    # Similarly for the first layer\n",
    "    pre_mul = np.matmul(cache['W'+str(1)].T,pre_mul)\n",
    "    dA_dZ = activation_derivative(cache['A'+str(0)],h_params['nn_acti'][0])\n",
    "    pre_mul = np.multiply(pre_mul,dA_dZ)\n",
    "    dW = np.matmul(pre_mul,X.T)\n",
    "    dB = np.sum(pre_mul,axis=1,keepdims=True)\n",
    "    cache.update({'dW'+str(0): dW,\n",
    "                 'dB'+str(0): dB})\n",
    "    \n",
    "    return cache"
   ]
  },
  {
   "cell_type": "code",
   "execution_count": 32,
   "metadata": {},
   "outputs": [],
   "source": [
    "def update_weights(cache,h_params):\n",
    "    for i in range(len(h_params['nn_arch'])):\n",
    "        cache['W'+str(i)] -= cache['dW'+str(i)] * h_params['lr']\n",
    "        cache['B'+str(i)] -= cache['dB'+str(i)] * h_params['lr']\n",
    "    return cache"
   ]
  },
  {
   "cell_type": "markdown",
   "metadata": {},
   "source": [
    "Now we have the tools for a Neural Network. Let us create a run which would compute what we need and see it run for one full iteration on its own."
   ]
  },
  {
   "cell_type": "code",
   "execution_count": 33,
   "metadata": {},
   "outputs": [],
   "source": [
    "def nn_network(X,Y_true,nn_arachitecture,nn_activations,cost,learning_rate,n_epoch):\n",
    "    cache,h_params = initialize_parameters(X,nn_architecture,nn_activations,learning_rate)\n",
    "    cost = []\n",
    "    for i in range(n_epoch):\n",
    "        Y_pred,cache = forward_nn_network(X,cache,h_params)\n",
    "        loss = cost_function(Y_pred,Y_true,cost)\n",
    "        print(np.sum(loss))\n",
    "        cache = backward_nn_network(X,Y_pred,Y_true,cost,cache,h_params)\n",
    "        cache = update_weights(cache,h_params)\n",
    "        cost.append(np.sum(loss))\n",
    "        \n",
    "    return cache,h_params,np.sum(loss)"
   ]
  },
  {
   "cell_type": "markdown",
   "metadata": {},
   "source": [
    "Now, we can try the run the above code as a script."
   ]
  },
  {
   "cell_type": "markdown",
   "metadata": {},
   "source": [
    "The shape of the network is given by 786-25-10. 786 is the input layer, 25 is the hidden one, 10 is the output layer. The size of the output layer is given by the size of Y. The output of each layer goes through a non-linear function to include the non-linearity."
   ]
  },
  {
   "cell_type": "code",
   "execution_count": 34,
   "metadata": {
    "scrolled": false
   },
   "outputs": [
    {
     "name": "stdout",
     "output_type": "stream",
     "text": [
      "2.360035293746627\n",
      "4.054977344529237\n",
      "2.7035065436068466\n",
      "2.4040635672401414\n",
      "2.3379261678581913\n",
      "2.3123018534179858\n",
      "2.303891183372144\n",
      "2.301680573881721\n",
      "2.3011533333312473\n",
      "2.301138644182368\n"
     ]
    }
   ],
   "source": [
    "cache1,h_params1 = initialize_parameters(X_train,[25,10],['sigmoid','softmax'],1e-4)\n",
    "cost1 = []\n",
    "for i in range(10):\n",
    "    Y_pred1,cache1 = forward_nn_network(X_train,cache1,h_params1)\n",
    "    loss1 = cost_function(Y_pred1,Y_true,'cross-entropy')\n",
    "    if i % 1 == 0:\n",
    "        print(np.sum(loss1))\n",
    "    cache1 = backward_nn_network(X_train,Y_pred1,Y_true,'cross-entropy',cache1,h_params1)\n",
    "    cache1 = update_weights(cache1,h_params1)\n",
    "    cost1.append(np.sum(loss1))"
   ]
  },
  {
   "cell_type": "code",
   "execution_count": 35,
   "metadata": {},
   "outputs": [],
   "source": [
    "h_params1[\"lr\"] = 1e-5"
   ]
  },
  {
   "cell_type": "code",
   "execution_count": 47,
   "metadata": {},
   "outputs": [
    {
     "name": "stdout",
     "output_type": "stream",
     "text": [
      "1.2024218229650654\n",
      "1.1895021298082096\n",
      "1.1768336265588977\n",
      "1.164460110963645\n",
      "1.152432857326249\n",
      "1.1407172183617944\n",
      "1.1292144453059016\n",
      "1.1180074013358532\n",
      "1.107274194755957\n",
      "1.0970087625819676\n",
      "1.0870916405893503\n",
      "1.0774034927843654\n",
      "1.0679130238007575\n",
      "1.0586885934999442\n",
      "1.0497976060448833\n",
      "1.041238150602744\n",
      "1.0329695585842047\n",
      "1.0249231790920428\n",
      "1.0171064135714694\n",
      "1.0094619916688032\n",
      "1.0020070489676645\n",
      "0.9947702230915085\n",
      "0.9876718123503082\n",
      "0.9807602110743803\n",
      "0.9740809412601484\n",
      "0.9676337086050344\n",
      "0.9613969825827418\n",
      "0.955311536368718\n",
      "0.9493306488808592\n",
      "0.9434355423109904\n",
      "0.9376258930230777\n",
      "0.9319032973096005\n",
      "0.926317710956761\n",
      "0.9208755202023449\n",
      "0.9155444231821296\n",
      "0.9103470861129247\n",
      "0.9053730135847858\n",
      "0.900631648159126\n",
      "0.8960637511940569\n",
      "0.8916085125142439\n",
      "0.8872423375412688\n",
      "0.8830208892561872\n",
      "0.8788822650490562\n",
      "0.8748403874485782\n",
      "0.8708317288087327\n",
      "0.8668297681513194\n",
      "0.8628552224020951\n",
      "0.8588636943818276\n",
      "0.8548671642684833\n",
      "0.8508315835612402\n"
     ]
    }
   ],
   "source": [
    "for i in range(1000):\n",
    "    Y_pred1,cache = forward_nn_network(X_train,cache1,h_params1)\n",
    "    loss1 = cost_function(Y_pred1,Y_true,'cross-entropy')\n",
    "    if i % 10 == 0:\n",
    "        print(np.sum(loss1))\n",
    "    cache1 = backward_nn_network(X_train,Y_pred1,Y_true,'cross-entropy',cache1,h_params1)\n",
    "    cache1 = update_weights(cache1,h_params1)\n",
    "    cost1.append(np.sum(loss1))"
   ]
  },
  {
   "cell_type": "code",
   "execution_count": 48,
   "metadata": {
    "scrolled": true
   },
   "outputs": [
    {
     "data": {
      "text/plain": [
       "[<matplotlib.lines.Line2D at 0xb4d50d9e8>]"
      ]
     },
     "execution_count": 48,
     "metadata": {},
     "output_type": "execute_result"
    },
    {
     "data": {
      "image/png": "[encoded data removed]",
      "text/plain": [
       "<Figure size 432x288 with 1 Axes>"
      ]
     },
     "metadata": {
      "needs_background": "light"
     },
     "output_type": "display_data"
    }
   ],
   "source": [
    "plt.plot(cost1)"
   ]
  },
  {
   "cell_type": "code",
   "execution_count": 49,
   "metadata": {},
   "outputs": [
    {
     "name": "stdout",
     "output_type": "stream",
     "text": [
      "[3.]\n",
      "[0 0 0 1 0 0 0 0 0 0]\n"
     ]
    },
    {
     "data": {
      "text/plain": [
       "<matplotlib.image.AxesImage at 0xb4d636ac8>"
      ]
     },
     "execution_count": 49,
     "metadata": {},
     "output_type": "execute_result"
    },
    {
     "data": {
      "image/png": "[encoded data removed]",
      "text/plain": [
       "<Figure size 432x288 with 1 Axes>"
      ]
     },
     "metadata": {
      "needs_background": "light"
     },
     "output_type": "display_data"
    }
   ],
   "source": [
    "image_index = 25377\n",
    "print(y_train[image_index])\n",
    "print((Y_pred1[:,image_index] >= np.max(Y_pred1[:,image_index])) * 1)\n",
    "plt.imshow(x_train[image_index],cmap = 'Greys')"
   ]
  },
  {
   "cell_type": "markdown",
   "metadata": {},
   "source": [
    "To get the accuracy of the network, we can take the values of the output and assign 1 to the highest output and make all others 0. Now, if we subtract that from the true values, we should be left with 0s whenever the answer is correct. If the prediction is incorrect, we will be left with 2 ones (+1 and -1) in that column. But that does not mean we are twice wrong. So to counter this problem, we take the absolute and divide by 2. Now, we can add all the entries in one column and do that for the size of the dataset. Thus, if the prediciton is correct, we will have a sum of 0, if not, we will sum to 1."
   ]
  },
  {
   "cell_type": "markdown",
   "metadata": {},
   "source": [
    "$ output =\n",
    "\\left\\{\n",
    "\t\\begin{array}{ll}\n",
    "\t\t0  & \\mbox{if } prediction = true value \\\\\n",
    "\t\t1 & \\mbox{if } prediction \\neq true value\n",
    "\t\\end{array}\n",
    "\\right.$"
   ]
  },
  {
   "cell_type": "markdown",
   "metadata": {},
   "source": [
    "Now, if the answers are correct, the particular value we described should be 0 or close to it. Accuracy, however, is measured as the correctness of the solution and generally, higher the accuracy, the better the solution. In our case, we do not have that (answer tends to 0 when we are correct and tends to 1 when we are not). To flip the thing around, subtract the particular value from 1 (100%). Now, if we are correct, the answer will be 1 or close to it."
   ]
  },
  {
   "cell_type": "code",
   "execution_count": 50,
   "metadata": {},
   "outputs": [
    {
     "name": "stdout",
     "output_type": "stream",
     "text": [
      "72.37\n"
     ]
    }
   ],
   "source": [
    "accuracy_train = (1-np.sum(np.abs((Y_pred1 >= np.max(Y_pred1,axis=0)) * 1 - Y_true))/2/Y_true.shape[1]) * 100\n",
    "print(accuracy_train)"
   ]
  },
  {
   "cell_type": "markdown",
   "metadata": {},
   "source": [
    "So, a simple Neural Network with one hidden layer of 25 neurons, which I ran for about 1000 passes gave me an accuracy of 72.37% on the training set. That is pretty good. Can we do better? Surely. What can we do to make it better? There are too many hyperparameters to play with.\n",
    "\n",
    "But first, let us see if this network does any good on the test set."
   ]
  },
  {
   "cell_type": "markdown",
   "metadata": {},
   "source": [
    "Here, we are going to take the [786,10000] test set and run it through the Neural Network."
   ]
  },
  {
   "cell_type": "code",
   "execution_count": 51,
   "metadata": {},
   "outputs": [],
   "source": [
    "Y_pred_test,cache_test = forward_nn_network(X_test,cache1,h_params1)"
   ]
  },
  {
   "cell_type": "code",
   "execution_count": 52,
   "metadata": {
    "scrolled": true
   },
   "outputs": [
    {
     "name": "stdout",
     "output_type": "stream",
     "text": [
      "[2.]\n",
      "[0 0 1 0 0 0 0 0 0 0]\n"
     ]
    },
    {
     "data": {
      "text/plain": [
       "<matplotlib.image.AxesImage at 0xb4d732be0>"
      ]
     },
     "execution_count": 52,
     "metadata": {},
     "output_type": "execute_result"
    },
    {
     "data": {
      "image/png": "[encoded data removed]",
      "text/plain": [
       "<Figure size 432x288 with 1 Axes>"
      ]
     },
     "metadata": {
      "needs_background": "light"
     },
     "output_type": "display_data"
    }
   ],
   "source": [
    "image_index = 6754\n",
    "print(y_test[image_index])\n",
    "print((Y_pred_test[:,image_index] >= np.max(Y_pred_test[:,image_index])) * 1)\n",
    "plt.imshow(x_test[image_index],cmap = 'Greys')"
   ]
  },
  {
   "cell_type": "code",
   "execution_count": 88,
   "metadata": {},
   "outputs": [
    {
     "name": "stdout",
     "output_type": "stream",
     "text": [
      "72.88\n"
     ]
    }
   ],
   "source": [
    "accuracy_test = (1-np.sum(np.abs((Y_pred_test >= np.max(Y_pred_test,axis=0)) * 1 - Y_test))/2/Y_test.shape[1]) * 100\n",
    "print(accuracy_test)"
   ]
  },
  {
   "cell_type": "markdown",
   "metadata": {},
   "source": [
    "Thus, our Neural Network is predicting the numbers with 72.88% accuracy for the test set. That is incredible!\n",
    "\n",
    "Note here that I did play around with the learning rate. I started off with $lr = 10^{-4}$ and then changed it to $lr=10^{-5}$ as I felt the weights were going in the right direction."
   ]
  },
  {
   "cell_type": "markdown",
   "metadata": {},
   "source": [
    "The next challenge is to improve this model to get higher accuracy."
   ]
  }
 ],
 "metadata": {
  "@webio": {
   "lastCommId": null,
   "lastKernelId": null
  },
  "kernelspec": {
   "display_name": "Python 3",
   "language": "python",
   "name": "python3"
  },
  "language_info": {
   "codemirror_mode": {
    "name": "ipython",
    "version": 3
   },
   "file_extension": ".py",
   "mimetype": "text/x-python",
   "name": "python",
   "nbconvert_exporter": "python",
   "pygments_lexer": "ipython3",
   "version": "3.7.2"
  }
 },
 "nbformat": 4,
 "nbformat_minor": 2
}
