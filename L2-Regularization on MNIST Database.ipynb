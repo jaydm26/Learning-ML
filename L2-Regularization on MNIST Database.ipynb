{
 "cells": [
  {
   "cell_type": "markdown",
   "metadata": {},
   "source": [
    "# L2-Regularization"
   ]
  },
  {
   "cell_type": "code",
   "execution_count": 1,
   "metadata": {},
   "outputs": [],
   "source": [
    "import numpy as np\n",
    "import tensorflow as tf\n",
    "import struct as st\n",
    "import matplotlib.pyplot as plt\n",
    "import copy\n",
    "%matplotlib inline\n",
    "np.set_printoptions(threshold=10)"
   ]
  },
  {
   "cell_type": "code",
   "execution_count": 2,
   "metadata": {},
   "outputs": [],
   "source": [
    "(x_train,y_train), (x_test,y_test) = tf.keras.datasets.mnist.load_data()"
   ]
  },
  {
   "cell_type": "code",
   "execution_count": 3,
   "metadata": {},
   "outputs": [
    {
     "name": "stdout",
     "output_type": "stream",
     "text": [
      "8\n"
     ]
    },
    {
     "data": {
      "text/plain": [
       "<matplotlib.image.AxesImage at 0xb3cad5978>"
      ]
     },
     "execution_count": 3,
     "metadata": {},
     "output_type": "execute_result"
    },
    {
     "data": {
      "image/png": "[encoded data removed]",
      "text/plain": [
       "<Figure size 432x288 with 1 Axes>"
      ]
     },
     "metadata": {
      "needs_background": "light"
     },
     "output_type": "display_data"
    }
   ],
   "source": [
    "image_index = 17\n",
    "print(y_train[image_index])\n",
    "plt.imshow(x_train[image_index],cmap = 'Greys')"
   ]
  },
  {
   "cell_type": "code",
   "execution_count": 4,
   "metadata": {},
   "outputs": [],
   "source": [
    "x_train_flattened = np.reshape(x_train,(x_train.shape[0],-1))\n",
    "x_test_flattened = np.reshape(x_test,(x_test.shape[0],-1))\n",
    "y_train = y_train.reshape(y_train.shape[0],1)\n",
    "y_test = y_test.reshape(y_test.shape[0],1)"
   ]
  },
  {
   "cell_type": "code",
   "execution_count": 5,
   "metadata": {},
   "outputs": [],
   "source": [
    "x_train_flattened = x_train_flattened.astype('float32')\n",
    "x_test_flattened = x_test_flattened.astype('float32')\n",
    "y_train = y_train.astype('float32')\n",
    "y_test = y_test.astype('float32')"
   ]
  },
  {
   "cell_type": "code",
   "execution_count": 6,
   "metadata": {},
   "outputs": [],
   "source": [
    "x_train_flattened = x_train_flattened/255\n",
    "x_test_flattened = x_test_flattened/255\n",
    "X_train = x_train_flattened.T\n",
    "X_test = x_test_flattened.T"
   ]
  },
  {
   "cell_type": "code",
   "execution_count": 23,
   "metadata": {},
   "outputs": [],
   "source": [
    "n_labels = 10\n",
    "Y_train = np.zeros((n_labels,y_train.shape[0]))\n",
    "Y_test = np.zeros((n_labels,y_test.shape[0]))\n",
    "\n",
    "for i in range(len(y_train)):\n",
    "    Y_train[int(y_train[i])][i] = 1\n",
    "    \n",
    "for i in range(len(y_test)):\n",
    "    Y_test[int(y_test[i])][i] = 1"
   ]
  },
  {
   "cell_type": "code",
   "execution_count": 8,
   "metadata": {},
   "outputs": [],
   "source": [
    "def relu(z):\n",
    "    return np.maximum(z,0)\n",
    "\n",
    "def sigmoid(z):\n",
    "    return 1.0/(1.0+np.exp(-z))\n",
    "\n",
    "def tanh(z):\n",
    "    return np.tanh(z)\n",
    "\n",
    "def atan(z):\n",
    "    return np.arctan(z)\n",
    "\n",
    "def softmax(z):\n",
    "    return np.divide(np.exp(z-np.max(z,axis=0)),np.sum(np.exp(z-np.max(z,axis=0)),axis=0))"
   ]
  },
  {
   "cell_type": "code",
   "execution_count": 9,
   "metadata": {},
   "outputs": [],
   "source": [
    "def activation_function(z,activation):\n",
    "    if activation == 'relu':\n",
    "        return relu(z)\n",
    "    elif activation == 'tanh':\n",
    "        return tanh(z)\n",
    "    elif activation == 'atan':\n",
    "        return atan(z)\n",
    "    elif activation == 'sigmoid':\n",
    "        return sigmoid(z)\n",
    "    elif activation == 'softmax':\n",
    "        return softmax(z)"
   ]
  },
  {
   "cell_type": "code",
   "execution_count": 18,
   "metadata": {},
   "outputs": [],
   "source": [
    "def initialize_parameters(X,nn_architecture,nn_activations,learning_rate,lam):\n",
    "    cache = {}\n",
    "    h_params = {'nn_arch': nn_architecture,\n",
    "               'lr': learning_rate,\n",
    "               'nn_acti': nn_activations,\n",
    "               'lam': lam}\n",
    "    W = np.random.rand(nn_architecture[0],X.shape[0]) * 0.01\n",
    "    B = np.random.rand(nn_architecture[0],1)\n",
    "    cache.update({'W'+str(0): W, 'B'+str(0):B})\n",
    "    for i in range(1,len(nn_architecture)):\n",
    "        W = np.random.rand(nn_architecture[i],nn_architecture[i-1]) * 0.01\n",
    "        B = np.random.rand(nn_architecture[i],1)\n",
    "        cache.update({'W'+str(i): W, 'B'+str(i):B})\n",
    "        \n",
    "    return cache,h_params"
   ]
  },
  {
   "cell_type": "code",
   "execution_count": 11,
   "metadata": {},
   "outputs": [],
   "source": [
    "def forward_nn_network(X,cache,h_params):\n",
    "    A = X\n",
    "    for i in range(len(h_params['nn_arch'])):\n",
    "        X = A\n",
    "        Z = np.matmul(cache['W'+str(i)],X) + cache['B'+str(i)]\n",
    "        A = activation_function(Z,h_params['nn_acti'][i])\n",
    "        cache.update({'A'+str(i): A,\n",
    "                     'Z'+str(i): Z})\n",
    "    return A,cache"
   ]
  },
  {
   "cell_type": "code",
   "execution_count": 31,
   "metadata": {},
   "outputs": [],
   "source": [
    "def cost_function(Y_pred,Y_true,cost):\n",
    "    if cost == 'mae':\n",
    "        return 1.0/Y_pred.shape[1] * np.sum(np.abs(Y_pred-Y_true),axis = 1,keepdims = True)\n",
    "    elif cost == 'mse':\n",
    "        return 0.5/Y_pred.shape[1] * np.sum((Y_pred-Y_true)**2,axis = 1,keepdims = True)\n",
    "    elif cost == 'cross-entropy':\n",
    "        if Y_pred.shape[0] == 2:\n",
    "            return -1.0/Y_pred.shape[1] * np.sum(np.multiply(Y_true,np.log(Y_pred))+np.multiply((1.0-Y_true),np.log(1.0-Y_pred)),axis = 1, keepdims = True)\n",
    "        else:\n",
    "            return -1.0/Y_pred.shape[1] * np.sum(np.multiply(Y_true,np.log(Y_pred)),axis = 1,keepdims = True)"
   ]
  },
  {
   "cell_type": "code",
   "execution_count": 13,
   "metadata": {},
   "outputs": [],
   "source": [
    "def cost_function_derivative(Y_pred,Y_train,cost):\n",
    "    if cost == 'mae':\n",
    "        return 1.0/Y_pred.shape[1]\n",
    "    elif cost == 'mse':\n",
    "        return 1.0/Y_pred.shape[1] * (Y_pred - Y_train)\n",
    "    elif cost == 'cross-entropy':\n",
    "        if Y_pred.shape[0] == 2:\n",
    "            return 1.0/Y_pred.shape[1] * np.divide((Y_pred-Y_train),((1-Y_pred)*(Y_pred)))\n",
    "        else:\n",
    "            return 1.0/Y_pred.shape[1] * np.divide(Y_train,Y_pred)"
   ]
  },
  {
   "cell_type": "code",
   "execution_count": 14,
   "metadata": {},
   "outputs": [],
   "source": [
    "def activation_derivative(Z,activation):\n",
    "    if activation == 'relu':\n",
    "        return (lambda X: X>=0)(Z) * 1\n",
    "    elif activation == 'atan':\n",
    "        return 1.0/(Z**2 +1.0)\n",
    "    elif activation == 'tanh':\n",
    "        return 1.0-(tanh(Z))**2\n",
    "    elif activation == 'sigmoid':\n",
    "        return np.multiply(sigmoid(Z),1.0-sigmoid(Z))\n",
    "    elif activation == 'softmax':\n",
    "        return np.multiply(softmax(Z),np.eye(Z.shape[0])-softmax(Z))"
   ]
  },
  {
   "cell_type": "code",
   "execution_count": 15,
   "metadata": {},
   "outputs": [],
   "source": [
    "def backward_nn_network(X,Y_pred,Y_true,cost,cache,h_params):\n",
    "    \n",
    "    # Obtain the pre-multiplier (also dB)\n",
    "    if h_params[\"nn_acti\"][-1] == 'softmax' and cost == 'cross-entropy':\n",
    "        pre_mul = Y_pred-Y_true\n",
    "    else:\n",
    "        # First find the derivatives for the cost function\n",
    "        dJ = cost_function_derivative(Y_pred,Y_true,cost)\n",
    "        # Then find the activation derivative for the last layer\n",
    "        dA_dZ = activation_derivative(cache['A'+str(len(h_params['nn_arch'])-1)],h_params['nn_acti'][len(h_params['nn_arch'])-1])\n",
    "        pre_mul = np.matmul(dJ.T,dA_dZ)\n",
    "        \n",
    "    # Obtain the dW and dB\n",
    "    dW = np.matmul(pre_mul,cache['A'+str(len(h_params['nn_arch'])-2)].T)\n",
    "    dB = np.sum(pre_mul,axis=1,keepdims=True)\n",
    "    # Store it in a cache\n",
    "    cache.update({'dW'+str(len(h_params['nn_arch'])-1): dW,\n",
    "                 'dB'+str(len(h_params['nn_arch'])-1): dB})\n",
    "\n",
    "    # Similarly for the middle layers\n",
    "    for i in range(len(h_params['nn_arch'])-2,0,-1):\n",
    "        pre_mul = np.matmul(cache['W'+str(i+1)].T,pre_mul)\n",
    "        dA_dZ = activation_derivative(cache['A'+str(i)],h_params['nn_acti'][i])\n",
    "        pre_mul = np.multiply(pre_mul,dA_dZ)\n",
    "        dW = np.matmul(pre_mul,cache['A'+str(i-1)].T)\n",
    "        dB = np.sum(pre_mul,axis=1,keepdims=True)\n",
    "        cache.update({'dW'+str(i): dW,\n",
    "                     'dB'+str(i): dB})\n",
    "\n",
    "    # Similarly for the first layer\n",
    "    pre_mul = np.matmul(cache['W'+str(1)].T,pre_mul)\n",
    "    dA_dZ = activation_derivative(cache['A'+str(0)],h_params['nn_acti'][0])\n",
    "    pre_mul = np.multiply(pre_mul,dA_dZ)\n",
    "    dW = np.matmul(pre_mul,X.T)\n",
    "    dB = np.sum(pre_mul,axis=1,keepdims=True)\n",
    "    cache.update({'dW'+str(0): dW,\n",
    "                 'dB'+str(0): dB})\n",
    "    \n",
    "    return cache"
   ]
  },
  {
   "cell_type": "code",
   "execution_count": 36,
   "metadata": {},
   "outputs": [],
   "source": [
    "def update_weights(cache,h_params,regularization):\n",
    "    if regularization == None:\n",
    "        for i in range(len(h_params['nn_arch'])):\n",
    "            cache['W'+str(i)] -= cache['dW'+str(i)] * h_params['lr']\n",
    "            cache['B'+str(i)] -= cache['dB'+str(i)] * h_params['lr']\n",
    "    elif regularization == 'L2':\n",
    "        for i in range(len(h_params['nn_arch'])):\n",
    "            cache['W'+str(i)] -= (cache['dW'+str(i)] + h_params['lam'] * cache['W'+str(i)]/cache['A0'].shape[1]) * h_params['lr']\n",
    "            cache['B'+str(i)] -= cache['dB'+str(i)] * h_params['lr']\n",
    "    return cache"
   ]
  },
  {
   "cell_type": "code",
   "execution_count": 2,
   "metadata": {},
   "outputs": [],
   "source": [
    "def nn_network(X,Y_true,nn_architecture,nn_activations,cost,learning_rate,n_epoch,regularization,lam):\n",
    "    cache,h_params = initialize_parameters(X,nn_architecture,nn_activations,learning_rate,lam)\n",
    "    cost = []\n",
    "    if regularization == None:\n",
    "        for i in range(n_epoch):\n",
    "            Y_pred,cache = forward_nn_network(X,cache,h_params)\n",
    "            loss = cost_function(Y_pred,Y_true,cost)\n",
    "            print(np.sum(loss))\n",
    "            cache = backward_nn_network(X,Y_pred,Y_true,cost,cache,h_params)\n",
    "            cache = update_weights(cache,h_params)\n",
    "            cost.append(np.sum(loss))\n",
    "    elif regularization == 'L2':\n",
    "        for i in range(n_epoch):\n",
    "            Y_pred,cache = forward_nn_network(X,cache,h_params)\n",
    "            loss = cost_function(Y_pred,Y_true,cost)\n",
    "            for j in range(len(h_params['nn_arch'])):\n",
    "                loss += 0.5 * h_params['lam'] * np.sum(np.square(cache['W'+str(j)])) / Y_pred.shape[1]\n",
    "            print(np.sum(loss))\n",
    "            cache = backward_nn_network(X,Y_pred,Y_true,cost,cache,h_params)\n",
    "            cache = update_weights(cache,h_params,regularization)\n",
    "            cost.append(np.sum(loss))\n",
    "    return cache,h_params,cost"
   ]
  },
  {
   "cell_type": "code",
   "execution_count": 58,
   "metadata": {},
   "outputs": [],
   "source": [
    "cache,h_params = initialize_parameters(X_train,[25,10],['sigmoid','softmax'],learning_rate =1e-4,lam = 1e-5)\n",
    "cost = []"
   ]
  },
  {
   "cell_type": "code",
   "execution_count": 80,
   "metadata": {},
   "outputs": [
    {
     "name": "stdout",
     "output_type": "stream",
     "text": [
      "0.677745853907209\n",
      "0.6770066041064273\n",
      "0.6762967755365556\n",
      "0.6756661194348292\n",
      "0.6750520226313065\n",
      "0.6745580408219105\n",
      "0.6740489250927671\n",
      "0.6737193724075915\n",
      "0.6732805384060687\n",
      "0.6731131422580012\n",
      "0.6727058085615558\n",
      "0.6727199729551256\n",
      "0.6723428585574773\n",
      "0.6725690021537989\n",
      "0.672219131342709\n",
      "0.672656890789042\n",
      "0.6722840562974883\n",
      "0.672958135152436\n",
      "0.6724841420771577\n",
      "0.6734623669689785\n",
      "0.6728052261409445\n",
      "0.6740816936042413\n",
      "0.6731821712461691\n",
      "0.6746651659498434\n",
      "0.6734553302091385\n",
      "0.6750619866869378\n",
      "0.6734877828934778\n",
      "0.675189700980012\n",
      "0.6732467040369869\n",
      "0.6750161684279695\n",
      "0.6727715444925194\n",
      "0.6745072467460999\n",
      "0.672098353946401\n",
      "0.6737125669209616\n",
      "0.6712891491750326\n",
      "0.6727477620014635\n",
      "0.670412279879706\n",
      "0.6717236849592059\n",
      "0.6695029962317095\n",
      "0.6706773458449884\n",
      "0.6685433971382975\n",
      "0.6696644284269053\n",
      "0.6676065994589907\n",
      "0.6687041938550802\n",
      "0.666734195767638\n",
      "0.6677628265393816\n",
      "0.6658776367972262\n",
      "0.666856735128601\n",
      "0.6650002854047016\n",
      "0.6659986226149676\n",
      "0.6641210308351851\n",
      "0.6651147812265502\n",
      "0.6632683044019523\n",
      "0.6642445143014837\n",
      "0.6624498023346873\n",
      "0.6634287369121746\n",
      "0.6616603499211086\n",
      "0.6626018416643294\n",
      "0.6608541414064042\n",
      "0.6618088646599296\n",
      "0.660043573993464\n",
      "0.6610744110950626\n",
      "0.6592480588123044\n",
      "0.6603583056124955\n",
      "0.6584730058656381\n",
      "0.6596769525021233\n",
      "0.65779691670569\n",
      "0.6590487779936449\n",
      "0.6572490131445541\n",
      "0.6583969399031671\n",
      "0.6567370156647754\n",
      "0.657727642241075\n",
      "0.656190886167845\n",
      "0.6570499788096853\n",
      "0.6555677899474615\n",
      "0.6563284400425363\n",
      "0.6548488658233298\n",
      "0.6555608969563305\n",
      "0.6541075920729635\n",
      "0.6548536859181686\n",
      "0.6534462031638169\n",
      "0.6542779048487397\n",
      "0.6528928139769096\n",
      "0.6537810800259946\n",
      "0.6523943158761775\n",
      "0.6533006817245441\n",
      "0.6518885364567492\n",
      "0.6528623258072263\n",
      "0.6514046958644469\n",
      "0.6524350255823335\n",
      "0.6509448486197514\n",
      "0.6518726212355264\n",
      "0.6503737736600511\n",
      "0.6511588750040943\n",
      "0.6496416104190496\n",
      "0.6504239864309098\n",
      "0.6488653368052548\n",
      "0.6497037257645841\n",
      "0.6481366634348633\n",
      "0.6489258027133661\n"
     ]
    }
   ],
   "source": [
    "for i in range(100):\n",
    "    Y_pred,cache = forward_nn_network(X_train,cache,h_params)\n",
    "    loss = cost_function(Y_pred,Y_train,'cross-entropy')\n",
    "    for j in range(len(h_params['nn_arch'])):\n",
    "        loss += 0.5 * h_params['lam'] * np.sum(np.square(cache['W'+str(j)])) / Y_train.shape[1]\n",
    "    print(np.sum(loss))\n",
    "    cache = backward_nn_network(X_train,Y_pred,Y_train,'cross-entropy',cache,h_params)\n",
    "    cache = update_weights(cache,h_params,'L2')\n",
    "    cost.append(np.sum(loss))"
   ]
  },
  {
   "cell_type": "code",
   "execution_count": 81,
   "metadata": {},
   "outputs": [
    {
     "data": {
      "text/plain": [
       "[<matplotlib.lines.Line2D at 0x1076ceef0>]"
      ]
     },
     "execution_count": 81,
     "metadata": {},
     "output_type": "execute_result"
    },
    {
     "data": {
      "image/png": "[encoded data removed]",
      "text/plain": [
       "<Figure size 432x288 with 1 Axes>"
      ]
     },
     "metadata": {
      "needs_background": "light"
     },
     "output_type": "display_data"
    }
   ],
   "source": [
    "plt.plot(cost)"
   ]
  },
  {
   "cell_type": "code",
   "execution_count": 88,
   "metadata": {},
   "outputs": [
    {
     "name": "stdout",
     "output_type": "stream",
     "text": [
      "81.05499999999999\n"
     ]
    }
   ],
   "source": [
    "accuracy_train = (1-(np.sum(np.abs((Y_pred >= np.max(Y_pred,axis=0)) * 1 - Y_train)))/2/Y_train.shape[1]) * 100\n",
    "print(accuracy_train)"
   ]
  },
  {
   "cell_type": "code",
   "execution_count": 89,
   "metadata": {},
   "outputs": [],
   "source": [
    "Y_pred_test,cache = forward_nn_network(X_test,cache,h_params)"
   ]
  },
  {
   "cell_type": "code",
   "execution_count": 91,
   "metadata": {},
   "outputs": [
    {
     "name": "stdout",
     "output_type": "stream",
     "text": [
      "81.65\n"
     ]
    }
   ],
   "source": [
    "accuracy_test = (1-(np.sum(np.abs((Y_pred_test >= np.max(Y_pred_test,axis=0)) * 1 - Y_test)))/2/Y_test.shape[1]) * 100\n",
    "print(accuracy_test)"
   ]
  },
  {
   "cell_type": "markdown",
   "metadata": {},
   "source": [
    "Now lets mess around with a bigger network"
   ]
  },
  {
   "cell_type": "code",
   "execution_count": 97,
   "metadata": {},
   "outputs": [],
   "source": [
    "cache,h_params = initialize_parameters(X_train,[50,25,10],['sigmoid','sigmoid','softmax'],learning_rate =1e-4,lam = 1e-5)\n",
    "cost = []"
   ]
  },
  {
   "cell_type": "code",
   "execution_count": 104,
   "metadata": {},
   "outputs": [
    {
     "name": "stdout",
     "output_type": "stream",
     "text": [
      "3.145302510845956\n",
      "3.159844550600732\n",
      "3.1745890799795404\n",
      "3.189435419363853\n",
      "3.204451749672674\n",
      "3.219650762884007\n",
      "3.2351261195426435\n",
      "3.2507284442109525\n",
      "3.266508266893154\n",
      "3.2824915528827106\n",
      "3.298522507815438\n",
      "3.3147238745244736\n",
      "3.3311666716110526\n",
      "3.347838056706813\n",
      "3.3647380986222406\n",
      "3.3818144164550827\n",
      "3.3990390636928876\n",
      "3.416536609546848\n",
      "3.4341635143302116\n",
      "3.4520141587255684\n",
      "3.4701539962972525\n",
      "3.488451004375045\n",
      "3.506975382965728\n",
      "3.525698529842197\n",
      "3.5447190533665895\n",
      "3.5639090327278646\n",
      "3.5833225044894297\n",
      "3.602954885866052\n",
      "3.6227872917760116\n",
      "3.6429186901865562\n",
      "3.6633378466530835\n",
      "3.683930514179124\n",
      "3.704745661341942\n",
      "3.7258025099446366\n",
      "3.747118599607311\n",
      "3.768690555173102\n",
      "3.790441693781797\n",
      "3.8123924567739884\n",
      "3.8345888231215115\n",
      "3.85714951712089\n",
      "3.8799086568990733\n",
      "3.9028657847094896\n",
      "3.926077277358401\n",
      "3.949538452630031\n",
      "3.973252516558196\n",
      "3.997198657222616\n",
      "4.021414117913486\n",
      "4.045889927848236\n",
      "4.070550549116836\n",
      "4.095560802271491\n",
      "4.120822314274599\n",
      "4.14625592999475\n",
      "4.17199780294073\n",
      "4.198017497624051\n",
      "4.224425189313783\n",
      "4.251021425509909\n",
      "4.27790032323791\n",
      "4.30509185829499\n",
      "4.332606868368146\n",
      "4.3603823734685365\n",
      "4.3884139736253625\n",
      "4.416765833134427\n",
      "4.445217594147286\n",
      "4.474070935570078\n",
      "4.503271620555369\n",
      "4.532796924228474\n",
      "4.562512239593101\n",
      "4.592424250004837\n",
      "4.622626515359103\n",
      "4.653258902267998\n",
      "4.684057286649053\n",
      "4.715255502112589\n",
      "4.7467445179154\n",
      "4.778584213200673\n",
      "4.810700377985834\n",
      "4.8431646111306845\n",
      "4.875951639397477\n",
      "4.908972932957793\n",
      "4.942381476519849\n",
      "4.976087355217435\n",
      "5.010124893181955\n",
      "5.044488058388396\n",
      "5.079181199549848\n",
      "5.1139789359043295\n",
      "5.14916042198715\n",
      "5.184695311805992\n",
      "5.220569594863634\n",
      "5.25674450610026\n",
      "5.293226035972556\n",
      "5.330039862382985\n",
      "5.367372774790095\n",
      "5.404989505377593\n",
      "5.442798884011798\n",
      "5.480971066474777\n",
      "5.51957421256243\n",
      "5.558514706642796\n",
      "5.5978167799386584\n",
      "5.637441989543805\n",
      "5.677473474619101\n",
      "5.71786803320964\n"
     ]
    }
   ],
   "source": [
    "for i in range(100):\n",
    "    Y_pred,cache = forward_nn_network(X_train,cache,h_params)\n",
    "    loss = cost_function(Y_pred,Y_train,'cross-entropy')\n",
    "    for j in range(len(h_params['nn_arch'])):\n",
    "        loss += 0.5 * h_params['lam'] * np.sum(np.square(cache['W'+str(j)])) / Y_train.shape[1]\n",
    "    print(np.sum(loss))\n",
    "    cache = backward_nn_network(X_train,Y_pred,Y_train,'cross-entropy',cache,h_params)\n",
    "    cache = update_weights(cache,h_params,'L2')\n",
    "    cost.append(np.sum(loss))"
   ]
  },
  {
   "cell_type": "code",
   "execution_count": 105,
   "metadata": {},
   "outputs": [
    {
     "data": {
      "text/plain": [
       "[<matplotlib.lines.Line2D at 0xb40f95198>]"
      ]
     },
     "execution_count": 105,
     "metadata": {},
     "output_type": "execute_result"
    },
    {
     "data": {
      "image/png": "[encoded data removed]",
      "text/plain": [
       "<Figure size 432x288 with 1 Axes>"
      ]
     },
     "metadata": {
      "needs_background": "light"
     },
     "output_type": "display_data"
    }
   ],
   "source": [
    "plt.plot(cost)"
   ]
  },
  {
   "cell_type": "code",
   "execution_count": 106,
   "metadata": {},
   "outputs": [
    {
     "name": "stdout",
     "output_type": "stream",
     "text": [
      "18.51166666666667\n"
     ]
    }
   ],
   "source": [
    "accuracy_train = (1-(np.sum(np.abs((Y_pred >= np.max(Y_pred,axis=0)) * 1 - Y_train)))/2/Y_train.shape[1]) * 100\n",
    "print(accuracy_train)"
   ]
  },
  {
   "cell_type": "code",
   "execution_count": 107,
   "metadata": {},
   "outputs": [],
   "source": [
    "Y_pred_test,cache = forward_nn_network(X_test,cache,h_params)"
   ]
  },
  {
   "cell_type": "code",
   "execution_count": 108,
   "metadata": {},
   "outputs": [
    {
     "name": "stdout",
     "output_type": "stream",
     "text": [
      "18.75\n"
     ]
    }
   ],
   "source": [
    "accuracy_test = (1-(np.sum(np.abs((Y_pred_test >= np.max(Y_pred_test,axis=0)) * 1 - Y_test)))/2/Y_test.shape[1]) * 100\n",
    "print(accuracy_test)"
   ]
  },
  {
   "cell_type": "code",
   "execution_count": null,
   "metadata": {},
   "outputs": [],
   "source": []
  }
 ],
 "metadata": {
  "kernelspec": {
   "display_name": "Python 3",
   "language": "python",
   "name": "python3"
  },
  "language_info": {
   "codemirror_mode": {
    "name": "ipython",
    "version": 3
   },
   "file_extension": ".py",
   "mimetype": "text/x-python",
   "name": "python",
   "nbconvert_exporter": "python",
   "pygments_lexer": "ipython3",
   "version": "3.7.2"
  }
 },
 "nbformat": 4,
 "nbformat_minor": 2
}
